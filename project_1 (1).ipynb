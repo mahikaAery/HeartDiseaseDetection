{
  "nbformat": 4,
  "nbformat_minor": 0,
  "metadata": {
    "colab": {
      "provenance": []
    },
    "kernelspec": {
      "name": "python3",
      "display_name": "Python 3"
    },
    "language_info": {
      "name": "python"
    }
  },
  "cells": [
    {
      "cell_type": "markdown",
      "source": [
        "Detecting heart diseases using Machine Learning"
      ],
      "metadata": {
        "id": "9lgppQgH_Bvs"
      }
    },
    {
      "cell_type": "code",
      "source": [
        "from google.colab import drive\n",
        "drive.mount('/content/drive')"
      ],
      "metadata": {
        "colab": {
          "base_uri": "https://localhost:8080/"
        },
        "id": "q9bs1FGd8lCS",
        "outputId": "ad7a212d-f90c-42e6-9725-820a06f4ee1f"
      },
      "execution_count": null,
      "outputs": [
        {
          "output_type": "stream",
          "name": "stdout",
          "text": [
            "Mounted at /content/drive\n"
          ]
        }
      ]
    },
    {
      "cell_type": "code",
      "source": [
        "import numpy as np\n",
        "import pandas as pd\n",
        "import matplotlib.pyplot as plt\n",
        "import seaborn as sns\n",
        "\n",
        "%matplotlib inline\n",
        "\n",
        "from sklearn.linear_model import LogisticRegression\n",
        "from sklearn.neighbors import KNeighborsClassifier\n",
        "from sklearn.ensemble import RandomForestClassifier\n",
        "\n",
        "from sklearn.model_selection import train_test_split, cross_val_score\n",
        "from sklearn.model_selection import RandomizedSearchCV, GridSearchCV\n",
        "from sklearn.metrics import confusion_matrix, classification_report\n",
        "from sklearn.metrics import precision_score, recall_score, f1_score\n",
        "from sklearn.metrics import RocCurveDisplay"
      ],
      "metadata": {
        "id": "nVVmZNno9Kft"
      },
      "execution_count": null,
      "outputs": []
    },
    {
      "cell_type": "code",
      "source": [
        "df=pd.read_csv(\"/content/drive/MyDrive/Mahika (1)/heart_disease_csv.csv\")\n",
        "df.shape"
      ],
      "metadata": {
        "id": "C1-wDrDT9SMr"
      },
      "execution_count": null,
      "outputs": []
    },
    {
      "cell_type": "code",
      "source": [
        "df.head()"
      ],
      "metadata": {
        "id": "70y-VXb_AUNF"
      },
      "execution_count": null,
      "outputs": []
    },
    {
      "cell_type": "code",
      "source": [
        "df.tail()"
      ],
      "metadata": {
        "id": "QXyDk4ibAdug"
      },
      "execution_count": null,
      "outputs": []
    },
    {
      "cell_type": "code",
      "source": [
        "# Perform one-hot encoding on categorical columns\n",
        "df_encoded = pd.get_dummies(df)\n"
      ],
      "metadata": {
        "id": "PHCbu8C8U4oh"
      },
      "execution_count": null,
      "outputs": []
    },
    {
      "cell_type": "code",
      "source": [
        "df[\"target\"].value_counts()"
      ],
      "metadata": {
        "id": "UJc4lT3UAgJ3"
      },
      "execution_count": null,
      "outputs": []
    },
    {
      "cell_type": "code",
      "source": [
        "df[\"target\"].value_counts().plot(kind=\"bar\",color=[\"pink\",\"lightblue\"]);"
      ],
      "metadata": {
        "id": "-Nocg43gBE4V"
      },
      "execution_count": null,
      "outputs": []
    },
    {
      "cell_type": "code",
      "source": [
        "df.info()"
      ],
      "metadata": {
        "id": "KffEdp6HBXtS"
      },
      "execution_count": null,
      "outputs": []
    },
    {
      "cell_type": "code",
      "source": [
        "df.isna().sum()"
      ],
      "metadata": {
        "id": "O6VfzFFIBid0"
      },
      "execution_count": null,
      "outputs": []
    },
    {
      "cell_type": "code",
      "source": [
        "df.describe()"
      ],
      "metadata": {
        "id": "erGwRpOrBm08"
      },
      "execution_count": null,
      "outputs": []
    },
    {
      "cell_type": "markdown",
      "source": [
        "Heart Disease Frequency acoording to Sex"
      ],
      "metadata": {
        "id": "zWxIX6nLB3us"
      }
    },
    {
      "cell_type": "code",
      "source": [
        "df.sex.value_counts()"
      ],
      "metadata": {
        "id": "bb1uKGfoBsVO"
      },
      "execution_count": null,
      "outputs": []
    },
    {
      "cell_type": "code",
      "source": [
        "#Compare target column with sex column\n",
        "pd.crosstab(df.target,df.sex)"
      ],
      "metadata": {
        "id": "BqeuORRbCEDU"
      },
      "execution_count": null,
      "outputs": []
    },
    {
      "cell_type": "code",
      "source": [
        "#create a plot of crosstab\n",
        "pd.crosstab(df.target, df.sex).plot(kind=\"bar\", figsize=(10,6),color=[\"pink\",\"lightblue\"]);\n",
        "plt.xlabel(\"0=No Disease, 1= Disease\");\n",
        "plt.ylabel(\"Amount\");\n",
        "plt.legend([\"Female\",\"Male\"]);\n",
        "plt.xticks(rotation=0);"
      ],
      "metadata": {
        "id": "3uI2ptdMDSW5"
      },
      "execution_count": null,
      "outputs": []
    },
    {
      "cell_type": "markdown",
      "source": [
        "Age vs Max Heart Rate for Heart Disease"
      ],
      "metadata": {
        "id": "DnQdbhvpFr0d"
      }
    },
    {
      "cell_type": "code",
      "source": [
        "plt.figure(figsize=(10,6))\n",
        "plt.scatter(df.age[df.target==1],\n",
        "            df.thalassemia[df.target==1],\n",
        "            c=\"pink\");\n",
        "plt.scatter(df.age[df.target==0],\n",
        "            df.thalassemia[df.target==0],\n",
        "            c=\"lightblue\");\n",
        "plt.legend([\"Disease\",\"No Disease\"])"
      ],
      "metadata": {
        "id": "THPmv4QEFz8Z"
      },
      "execution_count": null,
      "outputs": []
    },
    {
      "cell_type": "code",
      "source": [
        "df.age.plot.hist();"
      ],
      "metadata": {
        "id": "oBzZd_sIGdjF"
      },
      "execution_count": null,
      "outputs": []
    },
    {
      "cell_type": "markdown",
      "source": [
        "Heart Disease Freq per Chest Pain Type"
      ],
      "metadata": {
        "id": "Xw0bMAWYHZjr"
      }
    },
    {
      "cell_type": "code",
      "source": [
        "pd.crosstab(df.chest_pain_type, df.target)"
      ],
      "metadata": {
        "id": "JOrdC7kPHgqk"
      },
      "execution_count": null,
      "outputs": []
    },
    {
      "cell_type": "code",
      "source": [
        "pd.crosstab(df.chest_pain_type,df.target).plot(kind=\"bar\", figsize=(10,6),color=[\"pink\",\"lightblue\"]);\n",
        "plt.xlabel(\"0=No Disease, 1= Disease\");\n",
        "plt.legend([\"Female\",\"Male\"]);\n",
        "plt.xticks(rotation=0);"
      ],
      "metadata": {
        "id": "Xk6nKihOH4T2"
      },
      "execution_count": null,
      "outputs": []
    },
    {
      "cell_type": "code",
      "source": [
        "df.corr()"
      ],
      "metadata": {
        "id": "9GFLlyvAIUo8"
      },
      "execution_count": null,
      "outputs": []
    },
    {
      "cell_type": "code",
      "source": [
        "corr_matrix=df.corr();\n",
        "fig, ax= plt.subplots(figsize=(15,10));\n",
        "ax= sns.heatmap(corr_matrix,\n",
        "                annot=True,\n",
        "                linewidths=0.5,\n",
        "                fmt=\".2f\");"
      ],
      "metadata": {
        "id": "5qS78MXxIaTj"
      },
      "execution_count": null,
      "outputs": []
    },
    {
      "cell_type": "markdown",
      "source": [
        "Modelling\n"
      ],
      "metadata": {
        "id": "HxkfxpczJwtY"
      }
    },
    {
      "cell_type": "code",
      "source": [
        "df.head()"
      ],
      "metadata": {
        "id": "IPkrcuggJywW"
      },
      "execution_count": null,
      "outputs": []
    },
    {
      "cell_type": "code",
      "source": [
        "X=df.drop(\"target\",axis=1)\n",
        "y=df[\"target\"]"
      ],
      "metadata": {
        "id": "5Qcj7f8iJ54I"
      },
      "execution_count": null,
      "outputs": []
    },
    {
      "cell_type": "code",
      "source": [
        "X_encoded = df_encoded.drop(\"target\", axis=1)\n",
        "y_encoded = df_encoded[\"target\"]\n"
      ],
      "metadata": {
        "id": "kHCy0UbXVVwx"
      },
      "execution_count": null,
      "outputs": []
    },
    {
      "cell_type": "code",
      "source": [
        "y"
      ],
      "metadata": {
        "id": "qOMPtnGfKJaY"
      },
      "execution_count": null,
      "outputs": []
    },
    {
      "cell_type": "code",
      "source": [
        "np.random.seed(42)\n",
        "\n",
        "X_train_encoded, X_test_encoded, y_train_encoded, y_test_encoded=train_test_split(X,y,test_size=0.2)"
      ],
      "metadata": {
        "id": "7MglCxHxKLM6"
      },
      "execution_count": null,
      "outputs": []
    },
    {
      "cell_type": "code",
      "source": [
        "X_train_encoded,len(X_train_encoded)"
      ],
      "metadata": {
        "id": "YC_Tyt5YKlo3"
      },
      "execution_count": null,
      "outputs": []
    },
    {
      "cell_type": "code",
      "source": [
        "y_train_encoded,len(y_train_encoded)"
      ],
      "metadata": {
        "id": "YomR2CQfKs8l"
      },
      "execution_count": null,
      "outputs": []
    },
    {
      "cell_type": "code",
      "source": [
        "models={\"Logestic Regression\":LogisticRegression(),\n",
        "        \"KNN\": KNeighborsClassifier(),\n",
        "        \"Random Forest\": RandomForestClassifier()}\n",
        "\n",
        "def fit_and_score(models, X_train_encoded, X_test_encoded, y_train_encoded, y_test_encoded):\n",
        "  \"\"\"\n",
        "  Fits and evaluates given ML models.\n",
        "  models: a dict of different Scikit-Learn ML models\n",
        "  X_train: training data (no labels)\n",
        "  X_test: testing data (no labels)\n",
        "  y_train: training labels\n",
        "  y_test: test labels\n",
        "  \"\"\"\n",
        "\n",
        "  np.random.seed(42)\n",
        "  model_scores={}\n",
        "  for name, model in models.items():\n",
        "    model.fit(X_train_encoded, y_train_encoded)\n",
        "    model_scores[name]=model.score(X_test_encoded, y_test_encoded)\n",
        "  return model_scores\n"
      ],
      "metadata": {
        "id": "EuKMelMsKyYd"
      },
      "execution_count": null,
      "outputs": []
    },
    {
      "cell_type": "code",
      "source": [
        "X_train_encoded, X_test_encoded, y_train_encoded, y_test_encoded = train_test_split(X_encoded, y_encoded, test_size=0.2)\n",
        "\n",
        "model_scores = fit_and_score(models=models,\n",
        "                             X_train_encoded=X_train_encoded,\n",
        "                             X_test_encoded=X_test_encoded,\n",
        "                             y_train_encoded=y_train_encoded,\n",
        "                             y_test_encoded=y_test_encoded)\n",
        "model_scores\n"
      ],
      "metadata": {
        "id": "Eotz3HI7Npad"
      },
      "execution_count": null,
      "outputs": []
    },
    {
      "cell_type": "markdown",
      "source": [
        "model_compare"
      ],
      "metadata": {
        "id": "G9LxDVCESFQo"
      }
    },
    {
      "cell_type": "code",
      "source": [
        "model_compare=pd.DataFrame(model_scores,index=[\"accuracy\"])\n",
        "model_compare.T.plot.bar();"
      ],
      "metadata": {
        "id": "1i0fgE9hV1AD"
      },
      "execution_count": null,
      "outputs": []
    },
    {
      "cell_type": "markdown",
      "source": [
        "Hyperparameter tuning"
      ],
      "metadata": {
        "id": "IPt7YW9IWZPQ"
      }
    },
    {
      "cell_type": "code",
      "source": [
        "from sklearn import neighbors\n",
        "train_scores=[]\n",
        "test_scores=[]\n",
        "\n",
        "neighbors=range(1,21)\n",
        "knn=KNeighborsClassifier()\n",
        "\n",
        "for i in neighbors:\n",
        "  knn.set_params(n_neighbors=i)\n",
        "\n",
        "knn.fit(X_train_encoded,y_train_encoded)\n",
        "\n",
        "train_scores.append(knn.score(X_train_encoded,y_train_encoded))\n",
        "\n",
        "test_scores.append(knn.score(X_train_encoded,y_train_encoded))\n"
      ],
      "metadata": {
        "id": "yx6yNfoqWdV3"
      },
      "execution_count": null,
      "outputs": []
    },
    {
      "cell_type": "code",
      "source": [
        "train_scores"
      ],
      "metadata": {
        "id": "2v-bhhXMYojH"
      },
      "execution_count": null,
      "outputs": []
    },
    {
      "cell_type": "code",
      "source": [
        "test_scores"
      ],
      "metadata": {
        "id": "nr41FbLvYrK4"
      },
      "execution_count": null,
      "outputs": []
    },
    {
      "cell_type": "code",
      "source": [
        "model_compare=pd.DataFrame(model_scores,index=[\"accuracy\"])\n",
        "model_compare.T.plot.bar();"
      ],
      "metadata": {
        "id": "EiAVeKxYZr3d"
      },
      "execution_count": null,
      "outputs": []
    },
    {
      "cell_type": "markdown",
      "source": [
        "Hyperparameter tuning"
      ],
      "metadata": {
        "id": "Ycmva7ryZr3f"
      }
    },
    {
      "cell_type": "code",
      "source": [
        "from sklearn import neighbors\n",
        "train_scores=[]\n",
        "test_scores=[]\n",
        "\n",
        "neighbors=range(1,21)\n",
        "knn=KNeighborsClassifier()\n",
        "\n",
        "for i in neighbors:\n",
        "  knn.set_params(n_neighbors=i)\n",
        "\n",
        "knn.fit(X_train_encoded,y_train_encoded)\n",
        "\n",
        "train_scores.append(knn.score(X_train_encoded,y_train_encoded))\n",
        "\n",
        "test_scores.append(knn.score(X_train_encoded,y_train_encoded))\n"
      ],
      "metadata": {
        "id": "64G7bXFcZr3f"
      },
      "execution_count": null,
      "outputs": []
    },
    {
      "cell_type": "code",
      "source": [
        "train_scores"
      ],
      "metadata": {
        "id": "9kst5ldcZr3g"
      },
      "execution_count": null,
      "outputs": []
    },
    {
      "cell_type": "code",
      "source": [
        "test_scores"
      ],
      "metadata": {
        "id": "M8G86v_7Zr3g"
      },
      "execution_count": null,
      "outputs": []
    },
    {
      "cell_type": "code",
      "source": [
        "train_scores = []\n",
        "test_scores = []\n",
        "\n",
        "neighbors = range(1, 21)\n",
        "\n",
        "for i in neighbors:\n",
        "    knn = KNeighborsClassifier(n_neighbors=i)\n",
        "    knn.fit(X_train_encoded, y_train_encoded)\n",
        "    train_scores.append(knn.score(X_train_encoded, y_train_encoded))\n",
        "    test_scores.append(knn.score(X_test_encoded, y_test_encoded))\n",
        "\n",
        "plt.plot(neighbors, train_scores, label=\"Train score\")\n",
        "plt.plot(neighbors, test_scores, label=\"Test score\")\n",
        "plt.xlabel(\"Number of neighbors\")\n",
        "plt.ylabel(\"Model score\")\n",
        "plt.legend()\n",
        "\n",
        "print(f\"Maximum KNN score on the test data: {max(test_scores)*100:.2f}\")"
      ],
      "metadata": {
        "id": "wN6BbqFwZuCQ"
      },
      "execution_count": null,
      "outputs": []
    },
    {
      "cell_type": "markdown",
      "source": [
        "Hyperparameters tuning with RandomizedSearchCV"
      ],
      "metadata": {
        "id": "22J8AIkjmqOT"
      }
    },
    {
      "cell_type": "markdown",
      "source": [
        "Logestic Regression"
      ],
      "metadata": {
        "id": "pi-acnd6tblr"
      }
    },
    {
      "cell_type": "code",
      "source": [
        "log_reg_grid = {\n",
        "    \"C\": np.logspace(-4, 4, 20),\n",
        "    \"solver\": [\"liblinear\"]\n",
        "}\n",
        "\n",
        "rf_grid = {\n",
        "    \"n_estimators\": np.arange(10, 1000, 50),\n",
        "    \"max_depth\": [None,3,5,10],\n",
        "    \"min_samples_split\":np.arange(2,20,2),\n",
        "    \"min_samples_leaf\":np.arange(1,20,2)\n",
        "}\n"
      ],
      "metadata": {
        "id": "AQWXf9_Sm1mW"
      },
      "execution_count": null,
      "outputs": []
    },
    {
      "cell_type": "code",
      "source": [
        "np.arange(10,1000,50)"
      ],
      "metadata": {
        "id": "K1D9XzXYofYn"
      },
      "execution_count": null,
      "outputs": []
    },
    {
      "cell_type": "code",
      "source": [
        "np.random.seed(42)\n",
        "\n",
        "rs_log_reg= RandomizedSearchCV(LogisticRegression(),\n",
        "                               param_distributions=log_reg_grid,\n",
        "                               cv=5,\n",
        "                               n_iter=20,\n",
        "                               verbose=True)\n",
        "\n",
        "#Fit\n",
        "rs_log_reg.fit(X_train_encoded,y_train_encoded)"
      ],
      "metadata": {
        "id": "AQF1PBfgom3Z"
      },
      "execution_count": null,
      "outputs": []
    },
    {
      "cell_type": "code",
      "source": [
        "rs_log_reg.best_params_"
      ],
      "metadata": {
        "id": "QUEQurjgtC_W"
      },
      "execution_count": null,
      "outputs": []
    },
    {
      "cell_type": "code",
      "source": [
        "rs_log_reg.score(X_test_encoded,y_test_encoded)"
      ],
      "metadata": {
        "id": "k9nPuzMetLRq"
      },
      "execution_count": null,
      "outputs": []
    },
    {
      "cell_type": "markdown",
      "source": [
        "Random Forest"
      ],
      "metadata": {
        "id": "V9memnZCti4l"
      }
    },
    {
      "cell_type": "code",
      "source": [
        "np.random.seed(42)\n",
        "\n",
        "rs_rf=RandomizedSearchCV(RandomForestClassifier(),\n",
        "                        param_distributions=rf_grid,\n",
        "                         cv=5,\n",
        "                         n_iter=20,\n",
        "                         verbose=True)\n",
        "\n",
        "rs_rf.fit(X_train_encoded,y_train_encoded)"
      ],
      "metadata": {
        "id": "yvR_maqStWi4"
      },
      "execution_count": null,
      "outputs": []
    },
    {
      "cell_type": "code",
      "source": [
        "rs_rf.best_params_"
      ],
      "metadata": {
        "id": "C_CojM5-uQ4F"
      },
      "execution_count": null,
      "outputs": []
    },
    {
      "cell_type": "code",
      "source": [
        "rs_rf.score(X_test_encoded,y_test_encoded)"
      ],
      "metadata": {
        "id": "zprxLLH-uqcD"
      },
      "execution_count": null,
      "outputs": []
    },
    {
      "cell_type": "code",
      "source": [
        "model_scores"
      ],
      "metadata": {
        "id": "ojy3ac4bvCvV"
      },
      "execution_count": null,
      "outputs": []
    },
    {
      "cell_type": "markdown",
      "source": [
        "Hyperparanter Tuning with GridSearchCV"
      ],
      "metadata": {
        "id": "xacnyZGIoCmf"
      }
    },
    {
      "cell_type": "code",
      "source": [
        "#LR model\n",
        "log_reg_grid={\"C\":np.logspace(-4,4,30),\n",
        "              \"solver\":[\"liblinear\"]}\n",
        "\n",
        "gs_log_reg= GridSearchCV(LogisticRegression(),\n",
        "                         param_grid=log_reg_grid,\n",
        "                         cv=5,\n",
        "                         verbose=True)\n",
        "\n",
        "gs_log_reg.fit(X_train_encoded,y_train_encoded);"
      ],
      "metadata": {
        "id": "7yAS_-hLoH-O"
      },
      "execution_count": null,
      "outputs": []
    },
    {
      "cell_type": "code",
      "source": [
        "gs_log_reg.score(X_test_encoded,y_test_encoded)"
      ],
      "metadata": {
        "id": "fizd38vPpNm1"
      },
      "execution_count": null,
      "outputs": []
    },
    {
      "cell_type": "code",
      "source": [
        "model_scores"
      ],
      "metadata": {
        "id": "PkjNmcIspbma"
      },
      "execution_count": null,
      "outputs": []
    },
    {
      "cell_type": "markdown",
      "source": [
        "Evaluating our tuned ML classifier"
      ],
      "metadata": {
        "id": "GenzjaHUqEhO"
      }
    },
    {
      "cell_type": "code",
      "source": [
        "y_preds=rs_log_reg.predict(X_test_encoded)"
      ],
      "metadata": {
        "id": "RLxjDNdYpvss"
      },
      "execution_count": null,
      "outputs": []
    },
    {
      "cell_type": "code",
      "source": [
        "y_preds"
      ],
      "metadata": {
        "id": "jln_9oTespsV"
      },
      "execution_count": null,
      "outputs": []
    },
    {
      "cell_type": "code",
      "source": [
        "y_test_encoded"
      ],
      "metadata": {
        "id": "Ob_KwKRjsr4j"
      },
      "execution_count": null,
      "outputs": []
    },
    {
      "cell_type": "code",
      "source": [
        "RocCurveDisplay.from_estimator(estimator=gs_log_reg, X=X_test_encoded, y=y_test_encoded);"
      ],
      "metadata": {
        "id": "LWkRBv7qswBI",
        "colab": {
          "base_uri": "https://localhost:8080/",
          "height": 487
        },
        "outputId": "6472186c-5e0b-480e-e1b6-d39a113dbe4b"
      },
      "execution_count": null,
      "outputs": [
        {
          "output_type": "display_data",
          "data": {
            "text/plain": [
              "<Figure size 640x480 with 1 Axes>"
            ],
            "image/png": "[encoded data removed]"
          },
          "metadata": {}
        }
      ]
    },
    {
      "cell_type": "code",
      "source": [
        "#Confusion matrix\n",
        "print(confusion_matrix(y_test_encoded,y_preds))"
      ],
      "metadata": {
        "id": "Z7CQfdTOvIhE"
      },
      "execution_count": null,
      "outputs": []
    },
    {
      "cell_type": "code",
      "source": [
        "sns.set(font_scale=2)\n",
        "\n",
        "def plot_conf_mat(y_test_encoded,y_preds):\n",
        "  \"\"\"\n",
        "  Plots a nice looking confusion matrix using Seaborn's heatmap()\n",
        "  \"\"\"\n",
        "  fig,ax=plt.subplots(figsize=(3,3))\n",
        "  ax=sns.heatmap(confusion_matrix(y_test_encoded,y_preds),\n",
        "                 annot=True,\n",
        "                 cbar=False)\n",
        "  plt.xlabel(\"True label\")\n",
        "  plt.ylabel(\"Predicted label\")\n",
        "\n",
        "  plot_conf_mat(y_test_encoded,y_preds)"
      ],
      "metadata": {
        "id": "mxjLngrGvfbd"
      },
      "execution_count": null,
      "outputs": []
    },
    {
      "cell_type": "code",
      "source": [
        "print(classification_report(y_test_encoded,y_preds))"
      ],
      "metadata": {
        "id": "iBqB0sJRwi3w"
      },
      "execution_count": null,
      "outputs": []
    },
    {
      "cell_type": "markdown",
      "source": [
        "crooss-evaluation"
      ],
      "metadata": {
        "id": "ChQqdEa1xXzL"
      }
    },
    {
      "cell_type": "code",
      "source": [
        "gs_log_reg.best_params_"
      ],
      "metadata": {
        "id": "U262l7eix0px"
      },
      "execution_count": null,
      "outputs": []
    },
    {
      "cell_type": "code",
      "source": [
        "clf=LogisticRegression(C=0.1082636733874054,\n",
        "                       solver=\"liblinear\")"
      ],
      "metadata": {
        "id": "iewDYatyypka"
      },
      "execution_count": null,
      "outputs": []
    },
    {
      "cell_type": "code",
      "source": [
        "cv_acc=cross_val_score(clf,\n",
        "                       X_encoded,\n",
        "                       y_encoded,\n",
        "                       cv=5,\n",
        "                       scoring=\"accuracy\")\n",
        "cv_acc"
      ],
      "metadata": {
        "id": "YAw6wlHHzUR_"
      },
      "execution_count": null,
      "outputs": []
    },
    {
      "cell_type": "code",
      "source": [
        "cv_acc=np.mean(cv_acc)\n",
        "cv_acc"
      ],
      "metadata": {
        "id": "PpmDh1xKz5xM"
      },
      "execution_count": null,
      "outputs": []
    },
    {
      "cell_type": "code",
      "source": [
        "cv_precision=cross_val_score(clf,\n",
        "                       X_encoded,\n",
        "                       y_encoded,\n",
        "                       cv=5,\n",
        "                       scoring=\"precision\")\n",
        "cv_precision=np.mean(cv_precision)\n",
        "cv_precision"
      ],
      "metadata": {
        "id": "25BSOfwg0BOt"
      },
      "execution_count": null,
      "outputs": []
    },
    {
      "cell_type": "code",
      "source": [
        "cv_recall=cross_val_score(clf,\n",
        "                       X_encoded,\n",
        "                       y_encoded,\n",
        "                       cv=5,\n",
        "                       scoring=\"recall\")\n",
        "cv_recall=np.mean(cv_recall)\n",
        "cv_recall"
      ],
      "metadata": {
        "id": "q4gqj0rd0ZAF"
      },
      "execution_count": null,
      "outputs": []
    },
    {
      "cell_type": "code",
      "source": [
        "cv_f1=cross_val_score(clf,\n",
        "                       X_encoded,\n",
        "                       y_encoded,\n",
        "                       cv=5,\n",
        "                       scoring=\"f1\")\n",
        "cv_f1=np.mean(cv_f1)\n",
        "cv_f1"
      ],
      "metadata": {
        "id": "u8BXoHiQ0ngO"
      },
      "execution_count": null,
      "outputs": []
    },
    {
      "cell_type": "code",
      "source": [
        "#Visualize\n",
        "cv_metrics=pd.DataFrame({\"Accuracy\":cv_acc,\n",
        "                         \"Precision\":cv_precision,\n",
        "                         \"Recall\":cv_recall,\n",
        "                         \"F1\":cv_f1},\n",
        "                        index=[0])\n",
        "cv_metrics.T.plot.bar(title=\"Cross-validated classification metrics\",\n",
        "                      legend=False);"
      ],
      "metadata": {
        "id": "kL1ICpLo1S1V"
      },
      "execution_count": null,
      "outputs": []
    },
    {
      "cell_type": "markdown",
      "source": [
        "Feature Importance"
      ],
      "metadata": {
        "id": "FmPshRn63zp2"
      }
    },
    {
      "cell_type": "code",
      "source": [
        "df.head()"
      ],
      "metadata": {
        "id": "Q8fujoCF32Ey"
      },
      "execution_count": null,
      "outputs": []
    },
    {
      "cell_type": "code",
      "source": [
        "#fit\n",
        "clf=LogisticRegression(C=11.288378916846883,\n",
        "                       solver=\"liblinear\")\n",
        "clf.fit(X_train_encoded,y_train_encoded)\n"
      ],
      "metadata": {
        "id": "pXFHS3RM358f"
      },
      "execution_count": null,
      "outputs": []
    },
    {
      "cell_type": "code",
      "source": [
        "#check coef\n",
        "clf.coef_"
      ],
      "metadata": {
        "id": "Appy23-K4zxA"
      },
      "execution_count": null,
      "outputs": []
    },
    {
      "cell_type": "code",
      "source": [
        "#match coef's of features to columns\n",
        "feature_dict=dict(zip(df.columns,list(clf.coef_[0])))\n",
        "feature_dict"
      ],
      "metadata": {
        "id": "Qnl_F-v-46zz"
      },
      "execution_count": null,
      "outputs": []
    },
    {
      "cell_type": "code",
      "source": [
        "#visualise feat imp\n",
        "feature_df=pd.DataFrame(feature_dict,index=[0])\n",
        "feature_df.T.plot.bar(title=\"Feature Importance\",legend=False)"
      ],
      "metadata": {
        "id": "4D56v4zF5MKd"
      },
      "execution_count": null,
      "outputs": []
    }
  ]
}